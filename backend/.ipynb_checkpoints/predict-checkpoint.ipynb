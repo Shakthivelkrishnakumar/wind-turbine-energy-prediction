{
 "cells": [
  {
   "cell_type": "code",
   "execution_count": 20,
   "id": "322accc6",
   "metadata": {},
   "outputs": [
    {
     "name": "stdout",
     "output_type": "stream",
     "text": [
      "Coefficients: [311.52091199  -0.42976839]\n",
      "Intercept: -1017.4176758476212\n",
      "Mean Squared Error: 217404.1034722402\n",
      "Mean Absolute Error: 330.90703962971\n",
      "R-squared: 0.8649542823812045\n",
      "Columns in X_train: Index(['Speed', 'Direct'], dtype='object')\n",
      "Columns in X_test: Index(['Speed', 'Direct'], dtype='object')\n",
      "Data types in X_train: Speed     float64\n",
      "Direct    float64\n",
      "dtype: object\n",
      "Data types in X_test: Speed     float64\n",
      "Direct    float64\n",
      "dtype: object\n"
     ]
    },
    {
     "name": "stderr",
     "output_type": "stream",
     "text": [
      "/Users/shakthivelk/anaconda3/lib/python3.11/site-packages/sklearn/base.py:464: UserWarning: X does not have valid feature names, but LinearRegression was fitted with feature names\n",
      "  warnings.warn(\n"
     ]
    }
   ],
   "source": [
    "import pandas as pd\n",
    "import pickle\n",
    "import numpy as np\n",
    "import matplotlib.pyplot as plt\n",
    "import seaborn as sns\n",
    "from sklearn.linear_model import LinearRegression\n",
    "from sklearn.model_selection import train_test_split\n",
    "from sklearn.metrics import mean_squared_error, mean_absolute_error, r2_score\n",
    "import json\n",
    "import warnings\n",
    "from sklearn.exceptions import ConvergenceWarning\n",
    "\n",
    "\n",
    "\n",
    "# Read the input data written by Node.js\n",
    "with open('input_data.json', 'r') as file:\n",
    "    input_data = json.load(file)\n",
    "\n",
    "# Extract wind speed and wind direction as floats\n",
    "wind_speed = input_data['windSpeed']\n",
    "wind_direction=input_data['windDirection']\n",
    "\n",
    "wind_speed*=0.277778\n",
    "\n",
    "# Load the dataset\n",
    "data = pd.read_csv(\"T1.csv\")\n",
    "# Assuming your DataFrame is 'data' and columns are unnamed\n",
    "data.columns = ['Date','LV','Speed','Theoretical','Direct']\n",
    "\n",
    "# Data preprocessing\n",
    "data = data[data['LV'] > 0]\n",
    "data = data.dropna()\n",
    "\n",
    "# Preparing the data\n",
    "X = data[['Speed', 'Direct']]\n",
    "y = data['LV']\n",
    "\n",
    "# Splitting the data\n",
    "X_train, X_test, y_train, y_test = train_test_split(X, y, test_size=0.2, random_state=0)\n",
    "\n",
    "# Building the model\n",
    "model = LinearRegression()\n",
    "model.fit(X_train, y_train)\n",
    "\n",
    "# Evaluating the model, calculating metrics\n",
    "y_pred = model.predict(X_test)\n",
    "mse = mean_squared_error(y_test, y_pred)\n",
    "mae = mean_absolute_error(y_test, y_pred)\n",
    "r2 = r2_score(y_test, y_pred)\n",
    "\n",
    "# Printing the metrics\n",
    "print(\"Coefficients:\", model.coef_)\n",
    "print(\"Intercept:\", model.intercept_)\n",
    "print(\"Mean Squared Error:\", mse)\n",
    "print(\"Mean Absolute Error:\", mae)\n",
    "print(\"R-squared:\", r2)\n",
    "\n",
    "# Check columns in X_train and X_test\n",
    "print(\"Columns in X_train:\", X_train.columns)\n",
    "print(\"Columns in X_test:\", X_test.columns)\n",
    "\n",
    "# Check data types of columns in X_train and X_test\n",
    "print(\"Data types in X_train:\", X_train.dtypes)\n",
    "print(\"Data types in X_test:\", X_test.dtypes)\n",
    "\n",
    "\n",
    "# Saving the model\n",
    "with open('predict.pkl', 'wb') as file:\n",
    "    pickle.dump(model, file)\n",
    "\n",
    "# Perform prediction\n",
    "prediction = model.predict([[wind_speed, wind_direction]])\n",
    "\n",
    "# Write the prediction result to a file\n",
    "output_data = {'prediction': float(prediction)}\n",
    "with open('output_data.json', 'w') as file:\n",
    "    json.dump(output_data, file)\n",
    "warnings.filterwarnings(\"ignore\", category=ConvergenceWarning)"
   ]
  },
  {
   "cell_type": "code",
   "execution_count": null,
   "id": "f4c78384",
   "metadata": {},
   "outputs": [],
   "source": []
  },
  {
   "cell_type": "code",
   "execution_count": null,
   "id": "6e75f391",
   "metadata": {},
   "outputs": [],
   "source": []
  }
 ],
 "metadata": {
  "kernelspec": {
   "display_name": "Python 3 (ipykernel)",
   "language": "python",
   "name": "python3"
  },
  "language_info": {
   "codemirror_mode": {
    "name": "ipython",
    "version": 3
   },
   "file_extension": ".py",
   "mimetype": "text/x-python",
   "name": "python",
   "nbconvert_exporter": "python",
   "pygments_lexer": "ipython3",
   "version": "3.11.5"
  }
 },
 "nbformat": 4,
 "nbformat_minor": 5
}
